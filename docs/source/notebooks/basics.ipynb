{
 "cells": [
  {
   "cell_type": "markdown",
   "metadata": {},
   "source": [
    "# Basic Example\n",
    "\n",
    "This short notebook shows how to get started with HiggsDNA and [Coffea](https://github.com/CoffeaTeam/coffea)."
   ]
  },
  {
   "cell_type": "code",
   "execution_count": 1,
   "metadata": {},
   "outputs": [],
   "source": [
    "from bottom_line.utils.logger_utils import setup_logger\n",
    "from bottom_line.workflows import DYStudiesProcessor\n",
    "\n",
    "from coffea import processor\n",
    "import json\n",
    "from importlib import resources"
   ]
  },
  {
   "cell_type": "code",
   "execution_count": 6,
   "metadata": {},
   "outputs": [],
   "source": [
    "fileset = {\n",
    "    \"DYJetsToLL_M-50_TuneCP5_13TeV-amcatnloFXFX-pythia8\": [\n",
    "        \"samples/skimmed_nano/DYJetsToLL--UL17_v6-v2_109_Skim.root\"\n",
    "    ]\n",
    "}"
   ]
  },
  {
   "cell_type": "code",
   "execution_count": 7,
   "metadata": {},
   "outputs": [],
   "source": [
    "with resources.open_text(\"bottom_line.metaconditions\", \"Era2017_legacy_xgb_v1.json\") as f:\n",
    "    metaconditions = json.load(f)"
   ]
  },
  {
   "cell_type": "code",
   "execution_count": 8,
   "metadata": {},
   "outputs": [],
   "source": [
    "processor_instance = DYStudiesProcessor(\n",
    "    metaconditions=metaconditions,\n",
    "    do_systematics=False,\n",
    "    apply_trigger=True,\n",
    "    output_location=\"output/basics\"\n",
    ")"
   ]
  },
  {
   "cell_type": "code",
   "execution_count": 9,
   "metadata": {},
   "outputs": [
    {
     "data": {
      "application/vnd.jupyter.widget-view+json": {
       "model_id": "71312b6f136a462b8583d211ce582a68",
       "version_major": 2,
       "version_minor": 0
      },
      "text/plain": [
       "Preprocessing:   0%|          | 0/1 [00:00<?, ?file/s]"
      ]
     },
     "metadata": {},
     "output_type": "display_data"
    },
    {
     "data": {
      "application/vnd.jupyter.widget-view+json": {
       "model_id": "e712d79bc9a642e8b731f4c56ac3673d",
       "version_major": 2,
       "version_minor": 0
      },
      "text/plain": [
       "Processing:   0%|          | 0/1 [00:00<?, ?chunk/s]"
      ]
     },
     "metadata": {},
     "output_type": "display_data"
    },
    {
     "name": "stderr",
     "output_type": "stream",
     "text": [
      "/work/gallim/devel/HiggsDNA/bottom_line/workflows/base.py:216: PerformanceWarning: DataFrame is highly fragmented.  This is usually the result of calling `frame.insert` many times, which has poor performance.  Consider joining all columns at once using pd.concat(axis=1) instead.  To get a de-fragmented frame, use `newframe = frame.copy()`\n",
      "  output[f\"{prefix}_{subfield}\"] = awkward.to_numpy(\n",
      "/work/gallim/devel/HiggsDNA/bottom_line/workflows/base.py:220: PerformanceWarning: DataFrame is highly fragmented.  This is usually the result of calling `frame.insert` many times, which has poor performance.  Consider joining all columns at once using pd.concat(axis=1) instead.  To get a de-fragmented frame, use `newframe = frame.copy()`\n",
      "  output[field] = awkward.to_numpy(diphotons[field])\n"
     ]
    }
   ],
   "source": [
    "iterative_run = processor.Runner(\n",
    "    executor = processor.IterativeExecutor(compression=None),\n",
    "    schema=processor.NanoAODSchema,\n",
    ")\n",
    "\n",
    "out = iterative_run(\n",
    "    fileset,\n",
    "    treename=\"Events\",\n",
    "    processor_instance=processor_instance,\n",
    ")"
   ]
  }
 ],
 "metadata": {
  "interpreter": {
   "hash": "ef036038d0a1fe8d8c7adb63ccac111bea6e7f25fb04bf71efe9f740e7c4b462"
  },
  "kernelspec": {
   "display_name": "Python 3 (ipykernel)",
   "language": "python",
   "name": "python3"
  },
  "language_info": {
   "codemirror_mode": {
    "name": "ipython",
    "version": 3
   },
   "file_extension": ".py",
   "mimetype": "text/x-python",
   "name": "python",
   "nbconvert_exporter": "python",
   "pygments_lexer": "ipython3",
   "version": "3.9.9"
  }
 },
 "nbformat": 4,
 "nbformat_minor": 4
}
